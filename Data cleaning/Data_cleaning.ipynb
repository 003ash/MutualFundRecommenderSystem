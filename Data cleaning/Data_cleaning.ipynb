{
  "nbformat": 4,
  "nbformat_minor": 0,
  "metadata": {
    "colab": {
      "provenance": []
    },
    "kernelspec": {
      "name": "python3",
      "display_name": "Python 3"
    },
    "language_info": {
      "name": "python"
    }
  },
  "cells": [
    {
      "cell_type": "code",
      "execution_count": null,
      "metadata": {
        "colab": {
          "base_uri": "https://localhost:8080/"
        },
        "id": "s-ygOhimAaHY",
        "outputId": "a479dd95-04ff-4d79-e890-81ba80cfe260"
      },
      "outputs": [
        {
          "output_type": "stream",
          "name": "stdout",
          "text": [
            "Mounted at /content/drive\n"
          ]
        }
      ],
      "source": [
        "from google.colab import drive\n",
        "drive.mount('/content/drive')"
      ]
    },
    {
      "cell_type": "code",
      "source": [
        "import pandas as pd\n",
        "import numpy as np\n",
        "import os\n",
        "\n",
        "from datetime import datetime\n",
        "import time\n",
        "import re"
      ],
      "metadata": {
        "id": "Igh_6x4LAmMz"
      },
      "execution_count": null,
      "outputs": []
    },
    {
      "cell_type": "code",
      "source": [
        "file_path = '/content/drive/MyDrive/Merged Data/LatestData/Master2.xlsx'\n",
        "df = pd.read_excel(file_path, na_values='--')"
      ],
      "metadata": {
        "colab": {
          "base_uri": "https://localhost:8080/"
        },
        "id": "YsohDoMbAsCN",
        "outputId": "b2e00ffa-bc23-43cc-a628-b40fb034a9a9"
      },
      "execution_count": null,
      "outputs": [
        {
          "output_type": "stream",
          "name": "stderr",
          "text": [
            "/usr/local/lib/python3.9/dist-packages/openpyxl/worksheet/_reader.py:312: UserWarning: Unknown extension is not supported and will be removed\n",
            "  warn(msg)\n"
          ]
        }
      ]
    },
    {
      "cell_type": "code",
      "source": [
        "df.columns"
      ],
      "metadata": {
        "colab": {
          "base_uri": "https://localhost:8080/"
        },
        "id": "hPJrf8dzAx9r",
        "outputId": "77a29f0a-f496-4eb8-8d90-7d8dc89079a4"
      },
      "execution_count": null,
      "outputs": [
        {
          "output_type": "execute_result",
          "data": {
            "text/plain": [
              "Index(['Scheme_name', 'Category', 'Category_Equity', 'Category_Debt',\n",
              "       'Category_Hybrid', 'Expense_ratio', 'Risk_factor', 'age_in_months',\n",
              "       'Rating', 'Launch', 'Net_assets', 'Return_1wk', 'Return_1m',\n",
              "       'Return_3m', 'Return_6m', 'Return_1yr', 'Return_3yr', 'Return_5yr',\n",
              "       'Return_10yr', 'Return_SIP_3yr', 'Return_SIP_5yr', 'Return_SIP_10yr',\n",
              "       'Equity Fund Style', 'Equity_fund_style_Growth',\n",
              "       'Equity_fund_style_Value', 'Equity_fund_style_Blend', 'YTM',\n",
              "       'Standard Deviation', 'Sharpe Ratio', 'Sortino Ratio', 'Beta', 'Alpha',\n",
              "       'R-Squared', 'NAV_latest', 'NAV_previous', 'NAV_52wk_high',\n",
              "       'NAV_52wk_low', 'Minimum_Investment', 'Fund_Manager_Tenure',\n",
              "       'Fund_manager'],\n",
              "      dtype='object')"
            ]
          },
          "metadata": {},
          "execution_count": 4
        }
      ]
    },
    {
      "cell_type": "code",
      "source": [
        "df.shape"
      ],
      "metadata": {
        "colab": {
          "base_uri": "https://localhost:8080/"
        },
        "id": "EenI983IAzCq",
        "outputId": "34c68dc5-bef6-45a5-d8d0-35bbf75f4947"
      },
      "execution_count": null,
      "outputs": [
        {
          "output_type": "execute_result",
          "data": {
            "text/plain": [
              "(926, 40)"
            ]
          },
          "metadata": {},
          "execution_count": 5
        }
      ]
    },
    {
      "cell_type": "code",
      "source": [
        "#Selecting funds >18 months\n",
        "# print(type(df['age_in_months'].astype('int')))\n",
        "df = df[df['age_in_months']>18]\n",
        "df.shape"
      ],
      "metadata": {
        "colab": {
          "base_uri": "https://localhost:8080/"
        },
        "id": "wF6ZdQp6BEvF",
        "outputId": "cac23cae-2496-447b-c5e4-d3940dcc61ee"
      },
      "execution_count": null,
      "outputs": [
        {
          "output_type": "execute_result",
          "data": {
            "text/plain": [
              "(926, 40)"
            ]
          },
          "metadata": {},
          "execution_count": 6
        }
      ]
    },
    {
      "cell_type": "code",
      "source": [
        "#Drop rows with no return values\n",
        "df = df.dropna(subset=['Return_1wk','Return_1m','Return_3m'], how='all')\n",
        "df.shape"
      ],
      "metadata": {
        "colab": {
          "base_uri": "https://localhost:8080/"
        },
        "id": "Hb5vlGz2BNDi",
        "outputId": "c767b610-44ac-4b06-f55e-b6ba1898a314"
      },
      "execution_count": null,
      "outputs": [
        {
          "output_type": "execute_result",
          "data": {
            "text/plain": [
              "(926, 40)"
            ]
          },
          "metadata": {},
          "execution_count": 7
        }
      ]
    },
    {
      "cell_type": "code",
      "source": [
        "#Create funds managed by fund manager column\n",
        "funds_managed_by = df['Fund_manager'].value_counts().to_dict()\n",
        "df['#_Funds_managed'] = df.apply(lambda row: funds_managed_by[row.Fund_manager], axis=1)\n",
        "# df = df.replace({'Fund_manager': funds_managed_by})\n"
      ],
      "metadata": {
        "id": "BBpN1yeVBTcT"
      },
      "execution_count": null,
      "outputs": []
    },
    {
      "cell_type": "code",
      "source": [
        "df.head"
      ],
      "metadata": {
        "colab": {
          "base_uri": "https://localhost:8080/"
        },
        "id": "-Gt3s_9ZBd6J",
        "outputId": "b24ae4fe-4e49-4fd0-c4ef-27c42f6e3d1c"
      },
      "execution_count": null,
      "outputs": [
        {
          "output_type": "execute_result",
          "data": {
            "text/plain": [
              "<bound method NDFrame.head of                                            Scheme_name  Category  \\\n",
              "0    Aditya Birla Sun Life Bal Bhavishya Yojna - Di...    EQ-FLX   \n",
              "1    Aditya Birla Sun Life Banking & Financial Serv...   EQ-BANK   \n",
              "2    Aditya Birla Sun Life Commodity Equities Fund ...   EQ-INTL   \n",
              "3    Aditya Birla Sun Life Digital India Fund - Dir...     EQ-IT   \n",
              "4    Aditya Birla Sun Life Dividend Yield Fund - Di...  EQ-DIV Y   \n",
              "..                                                 ...       ...   \n",
              "921               UTI Hybrid Equity Fund - Direct Plan     HY-AH   \n",
              "922                 UTI Multi Asset Fund - Direct Plan    HY-MAA   \n",
              "923             UTI Regular Savings Fund - Direct Plan     HY-CH   \n",
              "924  UTI Retirement Benefit Pension Fund - Direct Plan     HY-BH   \n",
              "925       UTI Unit Linked Insurance Plan - Direct Plan    HY-DAA   \n",
              "\n",
              "     Category_Equity  Category_Debt  Category_Hybrid  Expense_ratio  \\\n",
              "0                  1              0                0           0.76   \n",
              "1                  1              0                0           1.17   \n",
              "2                  1              0                0           1.29   \n",
              "3                  1              0                0           0.88   \n",
              "4                  1              0                0           1.73   \n",
              "..               ...            ...              ...            ...   \n",
              "921                0              0                1           1.35   \n",
              "922                0              0                1           1.05   \n",
              "923                0              0                1           1.22   \n",
              "924                0              0                1           1.06   \n",
              "925                0              0                1           0.97   \n",
              "\n",
              "         Risk_factor  age_in_months  Rating     Launch  ... Alpha  R-Squared  \\\n",
              "0          Very High             49     2.0 2019-02-11  ... -5.66       0.94   \n",
              "1          Very High            111     2.0 2013-12-14  ...  0.20       0.96   \n",
              "2          Very High            122     NaN 2013-01-01  ...   NaN        NaN   \n",
              "3          Very High            122     NaN 2013-01-01  ...  4.80       0.90   \n",
              "4          Very High            122     NaN 2013-01-01  ...  3.62       0.90   \n",
              "..               ...            ...     ...        ...  ...   ...        ...   \n",
              "921        Very High            122     3.0 2013-01-01  ...  3.47       0.93   \n",
              "922        Very High            122     2.0 2013-01-01  ... -1.87       0.90   \n",
              "923  Moderately High            122     3.0 2013-01-01  ...  2.71       0.84   \n",
              "924             High            122     NaN 2013-01-01  ...  3.20       0.93   \n",
              "925             High            122     2.0 2013-01-01  ... -1.35       0.87   \n",
              "\n",
              "     NAV_latest  NAV_previous  NAV_52wk_high  NAV_52wk_low  \\\n",
              "0         13.75         13.71          15.26         12.52   \n",
              "1         41.83         41.51          46.71         35.15   \n",
              "2         36.92         36.22          44.33         35.08   \n",
              "3        126.85        126.54         151.66        115.18   \n",
              "4        284.74        284.57         302.25        231.67   \n",
              "..          ...           ...            ...           ...   \n",
              "921     271.239       270.569        284.296       239.698   \n",
              "922      49.392        49.355         50.551          42.6   \n",
              "923      56.752        56.701         57.505         52.78   \n",
              "924      37.947        37.896         38.656        34.694   \n",
              "925       33.89        33.831         35.203        32.036   \n",
              "\n",
              "     Minimum_Investment  Fund_Manager_Tenure            Fund_manager  \\\n",
              "0                  1000                  2.0            Atul Penkar    \n",
              "1                  1000                  7.6            Dhaval Gala    \n",
              "2                  1000                  0.3           Dhaval Joshi    \n",
              "3                  1000                  9.2           Kunal Sangoi    \n",
              "4                  1000                  1.0            Dhaval Gala    \n",
              "..                  ...                  ...                     ...   \n",
              "921               1,000                 10.2             V Srivatsa    \n",
              "922               5,000                  1.6            Sunil Patil    \n",
              "923               5,000                 10.2  Amandeep Singh Chopra    \n",
              "924                 500                 10.2             V Srivatsa    \n",
              "925              15,000                  8.3            Sunil Patil    \n",
              "\n",
              "     #_Funds_managed  \n",
              "0                  4  \n",
              "1                  3  \n",
              "2                  4  \n",
              "3                  2  \n",
              "4                  3  \n",
              "..               ...  \n",
              "921                5  \n",
              "922                3  \n",
              "923                3  \n",
              "924                5  \n",
              "925                3  \n",
              "\n",
              "[926 rows x 41 columns]>"
            ]
          },
          "metadata": {},
          "execution_count": 9
        }
      ]
    },
    {
      "cell_type": "code",
      "source": [
        "#Replacing NA values w column average\n",
        "df['Rating'].sum()/1080\n",
        "#avg rating is 2\n",
        "\n",
        "df['Rating'] = df['Rating'].fillna(2)\n",
        "df.head\n"
      ],
      "metadata": {
        "colab": {
          "base_uri": "https://localhost:8080/"
        },
        "id": "elS_j3YyBg0C",
        "outputId": "d2d50df7-a0e2-4296-f88d-3ab6e125703f"
      },
      "execution_count": null,
      "outputs": [
        {
          "output_type": "execute_result",
          "data": {
            "text/plain": [
              "<bound method NDFrame.head of                                            Scheme_name  Category  \\\n",
              "0    Aditya Birla Sun Life Bal Bhavishya Yojna - Di...    EQ-FLX   \n",
              "1    Aditya Birla Sun Life Banking & Financial Serv...   EQ-BANK   \n",
              "2    Aditya Birla Sun Life Commodity Equities Fund ...   EQ-INTL   \n",
              "3    Aditya Birla Sun Life Digital India Fund - Dir...     EQ-IT   \n",
              "4    Aditya Birla Sun Life Dividend Yield Fund - Di...  EQ-DIV Y   \n",
              "..                                                 ...       ...   \n",
              "921               UTI Hybrid Equity Fund - Direct Plan     HY-AH   \n",
              "922                 UTI Multi Asset Fund - Direct Plan    HY-MAA   \n",
              "923             UTI Regular Savings Fund - Direct Plan     HY-CH   \n",
              "924  UTI Retirement Benefit Pension Fund - Direct Plan     HY-BH   \n",
              "925       UTI Unit Linked Insurance Plan - Direct Plan    HY-DAA   \n",
              "\n",
              "     Category_Equity  Category_Debt  Category_Hybrid  Expense_ratio  \\\n",
              "0                  1              0                0           0.76   \n",
              "1                  1              0                0           1.17   \n",
              "2                  1              0                0           1.29   \n",
              "3                  1              0                0           0.88   \n",
              "4                  1              0                0           1.73   \n",
              "..               ...            ...              ...            ...   \n",
              "921                0              0                1           1.35   \n",
              "922                0              0                1           1.05   \n",
              "923                0              0                1           1.22   \n",
              "924                0              0                1           1.06   \n",
              "925                0              0                1           0.97   \n",
              "\n",
              "         Risk_factor  age_in_months  Rating     Launch  ... Alpha  R-Squared  \\\n",
              "0          Very High             49     2.0 2019-02-11  ... -5.66       0.94   \n",
              "1          Very High            111     2.0 2013-12-14  ...  0.20       0.96   \n",
              "2          Very High            122     2.0 2013-01-01  ...   NaN        NaN   \n",
              "3          Very High            122     2.0 2013-01-01  ...  4.80       0.90   \n",
              "4          Very High            122     2.0 2013-01-01  ...  3.62       0.90   \n",
              "..               ...            ...     ...        ...  ...   ...        ...   \n",
              "921        Very High            122     3.0 2013-01-01  ...  3.47       0.93   \n",
              "922        Very High            122     2.0 2013-01-01  ... -1.87       0.90   \n",
              "923  Moderately High            122     3.0 2013-01-01  ...  2.71       0.84   \n",
              "924             High            122     2.0 2013-01-01  ...  3.20       0.93   \n",
              "925             High            122     2.0 2013-01-01  ... -1.35       0.87   \n",
              "\n",
              "     NAV_latest  NAV_previous  NAV_52wk_high  NAV_52wk_low  \\\n",
              "0         13.75         13.71          15.26         12.52   \n",
              "1         41.83         41.51          46.71         35.15   \n",
              "2         36.92         36.22          44.33         35.08   \n",
              "3        126.85        126.54         151.66        115.18   \n",
              "4        284.74        284.57         302.25        231.67   \n",
              "..          ...           ...            ...           ...   \n",
              "921     271.239       270.569        284.296       239.698   \n",
              "922      49.392        49.355         50.551          42.6   \n",
              "923      56.752        56.701         57.505         52.78   \n",
              "924      37.947        37.896         38.656        34.694   \n",
              "925       33.89        33.831         35.203        32.036   \n",
              "\n",
              "     Minimum_Investment  Fund_Manager_Tenure            Fund_manager  \\\n",
              "0                  1000                  2.0            Atul Penkar    \n",
              "1                  1000                  7.6            Dhaval Gala    \n",
              "2                  1000                  0.3           Dhaval Joshi    \n",
              "3                  1000                  9.2           Kunal Sangoi    \n",
              "4                  1000                  1.0            Dhaval Gala    \n",
              "..                  ...                  ...                     ...   \n",
              "921               1,000                 10.2             V Srivatsa    \n",
              "922               5,000                  1.6            Sunil Patil    \n",
              "923               5,000                 10.2  Amandeep Singh Chopra    \n",
              "924                 500                 10.2             V Srivatsa    \n",
              "925              15,000                  8.3            Sunil Patil    \n",
              "\n",
              "     #_Funds_managed  \n",
              "0                  4  \n",
              "1                  3  \n",
              "2                  4  \n",
              "3                  2  \n",
              "4                  3  \n",
              "..               ...  \n",
              "921                5  \n",
              "922                3  \n",
              "923                3  \n",
              "924                5  \n",
              "925                3  \n",
              "\n",
              "[926 rows x 41 columns]>"
            ]
          },
          "metadata": {},
          "execution_count": 10
        }
      ]
    },
    {
      "cell_type": "code",
      "source": [
        "# Update NA return values with 0 and drop columns\n",
        "# Drop NAV_previous since correlation with NAV_latest=1\n",
        "df.update(df[['Return_1wk','Return_1m', 'Return_3m', 'Return_6m', 'Return_1yr', 'Return_3yr', 'Return_5yr', 'Return_10yr']].fillna(0))\n",
        "df.drop(['YTM','Beta', 'Alpha','R-Squared', 'Equity Fund Style', 'Launch', 'Return_SIP_3yr', 'Return_SIP_5yr', 'Return_SIP_10yr', 'NAV_previous'], axis=1, inplace=True)\n",
        "  \t\t\t\t\t\t\t\t\t"
      ],
      "metadata": {
        "id": "Fhuetm3wBr8H"
      },
      "execution_count": null,
      "outputs": []
    },
    {
      "cell_type": "code",
      "source": [
        "df['Risk_factor'].value_counts()"
      ],
      "metadata": {
        "colab": {
          "base_uri": "https://localhost:8080/"
        },
        "id": "lUVC07sDCSkM",
        "outputId": "5a2bc447-2ece-437d-dcd9-241794040d63"
      },
      "execution_count": null,
      "outputs": [
        {
          "output_type": "execute_result",
          "data": {
            "text/plain": [
              "Very High          530\n",
              "Moderate           146\n",
              "Low to Moderate    106\n",
              "Moderately High     64\n",
              "Low                 59\n",
              "High                21\n",
              "Name: Risk_factor, dtype: int64"
            ]
          },
          "metadata": {},
          "execution_count": 12
        }
      ]
    },
    {
      "cell_type": "code",
      "source": [
        "risk_factor_map = {'Very High':5, 'Moderate':2, 'Low to Moderate':1, 'Moderately High':3, 'Low':0, 'High':4}\n",
        "df['Risk_factor'] = df['Risk_factor'].map(risk_factor_map)\n",
        "df.head"
      ],
      "metadata": {
        "colab": {
          "base_uri": "https://localhost:8080/"
        },
        "id": "BCDpW23cCWK9",
        "outputId": "48fd1763-c345-4cca-a045-7ecc37ed8b14"
      },
      "execution_count": null,
      "outputs": [
        {
          "output_type": "execute_result",
          "data": {
            "text/plain": [
              "<bound method NDFrame.head of                                            Scheme_name  Category  \\\n",
              "0    Aditya Birla Sun Life Bal Bhavishya Yojna - Di...    EQ-FLX   \n",
              "1    Aditya Birla Sun Life Banking & Financial Serv...   EQ-BANK   \n",
              "2    Aditya Birla Sun Life Commodity Equities Fund ...   EQ-INTL   \n",
              "3    Aditya Birla Sun Life Digital India Fund - Dir...     EQ-IT   \n",
              "4    Aditya Birla Sun Life Dividend Yield Fund - Di...  EQ-DIV Y   \n",
              "..                                                 ...       ...   \n",
              "921               UTI Hybrid Equity Fund - Direct Plan     HY-AH   \n",
              "922                 UTI Multi Asset Fund - Direct Plan    HY-MAA   \n",
              "923             UTI Regular Savings Fund - Direct Plan     HY-CH   \n",
              "924  UTI Retirement Benefit Pension Fund - Direct Plan     HY-BH   \n",
              "925       UTI Unit Linked Insurance Plan - Direct Plan    HY-DAA   \n",
              "\n",
              "     Category_Equity  Category_Debt  Category_Hybrid  Expense_ratio  \\\n",
              "0                  1              0                0           0.76   \n",
              "1                  1              0                0           1.17   \n",
              "2                  1              0                0           1.29   \n",
              "3                  1              0                0           0.88   \n",
              "4                  1              0                0           1.73   \n",
              "..               ...            ...              ...            ...   \n",
              "921                0              0                1           1.35   \n",
              "922                0              0                1           1.05   \n",
              "923                0              0                1           1.22   \n",
              "924                0              0                1           1.06   \n",
              "925                0              0                1           0.97   \n",
              "\n",
              "     Risk_factor  age_in_months  Rating Net_assets  ...  Standard Deviation  \\\n",
              "0              5             49     2.0        637  ...               19.33   \n",
              "1              5            111     2.0      2,385  ...               33.75   \n",
              "2              5            122     2.0         16  ...               22.66   \n",
              "3              5            122     2.0      3,338  ...               24.56   \n",
              "4              5            122     2.0        850  ...               21.16   \n",
              "..           ...            ...     ...        ...  ...                 ...   \n",
              "921            5            122     3.0      4,287  ...               17.81   \n",
              "922            5            122     2.0        860  ...               14.08   \n",
              "923            3            122     3.0      1,544  ...                6.59   \n",
              "924            4            122     2.0      3,687  ...                9.45   \n",
              "925            4            122     2.0      5,069  ...               10.49   \n",
              "\n",
              "     Sharpe Ratio  Sortino Ratio  NAV_latest  NAV_52wk_high  NAV_52wk_low  \\\n",
              "0            0.37           0.47       13.75          15.26         12.52   \n",
              "1            0.38           0.45       41.83          46.71         35.15   \n",
              "2            0.76           0.89       36.92          44.33         35.08   \n",
              "3            1.08           1.37      126.85         151.66        115.18   \n",
              "4            0.82           0.98      284.74         302.25        231.67   \n",
              "..            ...            ...         ...            ...           ...   \n",
              "921          0.82           0.88     271.239        284.296       239.698   \n",
              "922          0.48           0.53      49.392         50.551          42.6   \n",
              "923          0.99           1.22      56.752         57.505         52.78   \n",
              "924          0.96           1.03      37.947         38.656        34.694   \n",
              "925          0.48           0.48       33.89         35.203        32.036   \n",
              "\n",
              "     Minimum_Investment  Fund_Manager_Tenure            Fund_manager  \\\n",
              "0                  1000                  2.0            Atul Penkar    \n",
              "1                  1000                  7.6            Dhaval Gala    \n",
              "2                  1000                  0.3           Dhaval Joshi    \n",
              "3                  1000                  9.2           Kunal Sangoi    \n",
              "4                  1000                  1.0            Dhaval Gala    \n",
              "..                  ...                  ...                     ...   \n",
              "921               1,000                 10.2             V Srivatsa    \n",
              "922               5,000                  1.6            Sunil Patil    \n",
              "923               5,000                 10.2  Amandeep Singh Chopra    \n",
              "924                 500                 10.2             V Srivatsa    \n",
              "925              15,000                  8.3            Sunil Patil    \n",
              "\n",
              "     #_Funds_managed  \n",
              "0                  4  \n",
              "1                  3  \n",
              "2                  4  \n",
              "3                  2  \n",
              "4                  3  \n",
              "..               ...  \n",
              "921                5  \n",
              "922                3  \n",
              "923                3  \n",
              "924                5  \n",
              "925                3  \n",
              "\n",
              "[926 rows x 31 columns]>"
            ]
          },
          "metadata": {},
          "execution_count": 13
        }
      ]
    },
    {
      "cell_type": "code",
      "source": [
        "df.shape\n",
        "df.to_excel('/content/drive/MyDrive/Merged Data/LatestData/ProcessedData3.xlsx', index=False)"
      ],
      "metadata": {
        "id": "0fabG8g-CZo8"
      },
      "execution_count": null,
      "outputs": []
    }
  ]
}